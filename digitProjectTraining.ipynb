{
 "cells": [
  {
   "cell_type": "code",
   "execution_count": 20,
   "metadata": {},
   "outputs": [],
   "source": [
    "import pandas as pd\n",
    "import numpy as np\n",
    "np.set_printoptions(formatter={'float_kind':\"{:3.2f}\".format})\n",
    "from sklearn.neighbors import KNeighborsClassifier\n",
    "from sklearn.metrics import accuracy_score\n",
    "from sklearn.model_selection import train_test_split\n",
    "from assets.confint import classification_confint\n",
    "from sklearn.tree import tree\n",
    "from assets.treeviz import tree_print\n",
    "from sklearn.metrics import accuracy_score\n",
    "from sklearn.model_selection import GridSearchCV\n",
    "from sklearn.metrics import confusion_matrix\n",
    "from sklearn.tree import DecisionTreeClassifier\n",
    "from joblib import dump"
   ]
  },
  {
   "cell_type": "code",
   "execution_count": 21,
   "metadata": {},
   "outputs": [
    {
     "name": "stdout",
     "output_type": "stream",
     "text": [
      "0.21.3\n"
     ]
    }
   ],
   "source": [
    "print(sklearn.__version__)"
   ]
  },
  {
   "cell_type": "code",
   "execution_count": 22,
   "metadata": {
    "scrolled": true
   },
   "outputs": [],
   "source": [
    "from sklearn.datasets import load_digits"
   ]
  },
  {
   "cell_type": "code",
   "execution_count": 4,
   "metadata": {},
   "outputs": [
    {
     "name": "stdout",
     "output_type": "stream",
     "text": [
      "(1797, 64)\n"
     ]
    }
   ],
   "source": [
    "digits = load_digits()\n",
    "print(digits.data.shape)"
   ]
  },
  {
   "cell_type": "code",
   "execution_count": 5,
   "metadata": {},
   "outputs": [
    {
     "name": "stdout",
     "output_type": "stream",
     "text": [
      "[[0.00 0.00 5.00 13.00 9.00 1.00 0.00 0.00 0.00 0.00 13.00 15.00 10.00\n",
      "  15.00 5.00 0.00 0.00 3.00 15.00 2.00 0.00 11.00 8.00 0.00 0.00 4.00\n",
      "  12.00 0.00 0.00 8.00 8.00 0.00 0.00 5.00 8.00 0.00 0.00 9.00 8.00 0.00\n",
      "  0.00 4.00 11.00 0.00 1.00 12.00 7.00 0.00 0.00 2.00 14.00 5.00 10.00\n",
      "  12.00 0.00 0.00 0.00 0.00 6.00 13.00 10.00 0.00 0.00 0.00]\n",
      " [0.00 0.00 0.00 12.00 13.00 5.00 0.00 0.00 0.00 0.00 0.00 11.00 16.00\n",
      "  9.00 0.00 0.00 0.00 0.00 3.00 15.00 16.00 6.00 0.00 0.00 0.00 7.00\n",
      "  15.00 16.00 16.00 2.00 0.00 0.00 0.00 0.00 1.00 16.00 16.00 3.00 0.00\n",
      "  0.00 0.00 0.00 1.00 16.00 16.00 6.00 0.00 0.00 0.00 0.00 1.00 16.00\n",
      "  16.00 6.00 0.00 0.00 0.00 0.00 0.00 11.00 16.00 10.00 0.00 0.00]\n",
      " [0.00 0.00 0.00 4.00 15.00 12.00 0.00 0.00 0.00 0.00 3.00 16.00 15.00\n",
      "  14.00 0.00 0.00 0.00 0.00 8.00 13.00 8.00 16.00 0.00 0.00 0.00 0.00\n",
      "  1.00 6.00 15.00 11.00 0.00 0.00 0.00 1.00 8.00 13.00 15.00 1.00 0.00\n",
      "  0.00 0.00 9.00 16.00 16.00 5.00 0.00 0.00 0.00 0.00 3.00 13.00 16.00\n",
      "  16.00 11.00 5.00 0.00 0.00 0.00 0.00 3.00 11.00 16.00 9.00 0.00]\n",
      " [0.00 0.00 7.00 15.00 13.00 1.00 0.00 0.00 0.00 8.00 13.00 6.00 15.00\n",
      "  4.00 0.00 0.00 0.00 2.00 1.00 13.00 13.00 0.00 0.00 0.00 0.00 0.00 2.00\n",
      "  15.00 11.00 1.00 0.00 0.00 0.00 0.00 0.00 1.00 12.00 12.00 1.00 0.00\n",
      "  0.00 0.00 0.00 0.00 1.00 10.00 8.00 0.00 0.00 0.00 8.00 4.00 5.00 14.00\n",
      "  9.00 0.00 0.00 0.00 7.00 13.00 13.00 9.00 0.00 0.00]\n",
      " [0.00 0.00 0.00 1.00 11.00 0.00 0.00 0.00 0.00 0.00 0.00 7.00 8.00 0.00\n",
      "  0.00 0.00 0.00 0.00 1.00 13.00 6.00 2.00 2.00 0.00 0.00 0.00 7.00 15.00\n",
      "  0.00 9.00 8.00 0.00 0.00 5.00 16.00 10.00 0.00 16.00 6.00 0.00 0.00\n",
      "  4.00 15.00 16.00 13.00 16.00 1.00 0.00 0.00 0.00 0.00 3.00 15.00 10.00\n",
      "  0.00 0.00 0.00 0.00 0.00 2.00 16.00 4.00 0.00 0.00]]\n"
     ]
    }
   ],
   "source": [
    "print(digits.data[:5])"
   ]
  },
  {
   "cell_type": "code",
   "execution_count": 6,
   "metadata": {},
   "outputs": [
    {
     "name": "stdout",
     "output_type": "stream",
     "text": [
      "[0 1 2 3 4]\n"
     ]
    }
   ],
   "source": [
    "print(digits.target[:5])"
   ]
  },
  {
   "cell_type": "code",
   "execution_count": 7,
   "metadata": {},
   "outputs": [
    {
     "name": "stdout",
     "output_type": "stream",
     "text": [
      "(1797, 8, 8)\n",
      "(1797,)\n"
     ]
    }
   ],
   "source": [
    "#examine shape of images(metrix)\n",
    "print(digits.images.shape)\n",
    "#examine shape target\n",
    "print(digits.target.shape)\n",
    "images = digits.data\n",
    "labels = digits.target"
   ]
  },
  {
   "cell_type": "code",
   "execution_count": 8,
   "metadata": {},
   "outputs": [],
   "source": [
    "#from sklearn.model_selection import train_test_split\n",
    "X_train, X_test, y_train, y_test = train_test_split(images, labels, test_size=0.33, random_state=42)"
   ]
  },
  {
   "cell_type": "code",
   "execution_count": 9,
   "metadata": {},
   "outputs": [],
   "source": [
    "#dtree = tree.DecisionTreeClassifier(criterion='entropy')"
   ]
  },
  {
   "cell_type": "code",
   "execution_count": 10,
   "metadata": {},
   "outputs": [],
   "source": [
    "#dtree.fit(images,labels)"
   ]
  },
  {
   "cell_type": "code",
   "execution_count": 11,
   "metadata": {},
   "outputs": [
    {
     "data": {
      "text/plain": [
       "(1797, 64)"
      ]
     },
     "execution_count": 11,
     "metadata": {},
     "output_type": "execute_result"
    }
   ],
   "source": [
    "images = images.reshape((images.shape[0], -1))\n",
    "images.shape"
   ]
  },
  {
   "cell_type": "code",
   "execution_count": 12,
   "metadata": {},
   "outputs": [
    {
     "name": "stdout",
     "output_type": "stream",
     "text": [
      "Accuracy: 0.99 (0.98, 1.00)\n"
     ]
    }
   ],
   "source": [
    "# set up the model with k=3\n",
    "model = KNeighborsClassifier(n_neighbors=3)\n",
    "\n",
    "# do train and test\n",
    "train_X, test_X, train_y, test_y = train_test_split(images, labels, train_size=0.8, test_size=0.2)\n",
    "model.fit(train_X, train_y)\n",
    "predict_y = model.predict(test_X)\n",
    "acc = accuracy_score(test_y, predict_y)\n",
    "lb, ub = classification_confint(acc, test_X.shape[0])\n",
    "print(\"Accuracy: {:3.2f} ({:3.2f}, {:3.2f})\".format(acc, lb, ub))"
   ]
  },
  {
   "cell_type": "code",
   "execution_count": 13,
   "metadata": {},
   "outputs": [
    {
     "data": {
      "text/plain": [
       "DecisionTreeClassifier(class_weight=None, criterion='entropy', max_depth=None,\n",
       "                       max_features=None, max_leaf_nodes=None,\n",
       "                       min_impurity_decrease=0.0, min_impurity_split=None,\n",
       "                       min_samples_leaf=1, min_samples_split=2,\n",
       "                       min_weight_fraction_leaf=0.0, presort=False,\n",
       "                       random_state=None, splitter='best')"
      ]
     },
     "execution_count": 13,
     "metadata": {},
     "output_type": "execute_result"
    }
   ],
   "source": [
    "#with decision tree\n",
    "dtree = tree.DecisionTreeClassifier(criterion='entropy')\n",
    "dtree.fit(images,labels)"
   ]
  },
  {
   "cell_type": "code",
   "execution_count": 14,
   "metadata": {},
   "outputs": [],
   "source": [
    "# decision trees\n",
    "model2 = DecisionTreeClassifier(random_state=1)"
   ]
  },
  {
   "cell_type": "code",
   "execution_count": 15,
   "metadata": {},
   "outputs": [
    {
     "name": "stdout",
     "output_type": "stream",
     "text": [
      "Grid Search: best parameters: {'criterion': 'entropy', 'max_depth': 12}\n"
     ]
    },
    {
     "name": "stderr",
     "output_type": "stream",
     "text": [
      "C:\\Users\\Korak\\Anaconda3\\lib\\site-packages\\sklearn\\model_selection\\_search.py:814: DeprecationWarning: The default of the `iid` parameter will change from True to False in version 0.22 and will be removed in 0.24. This will change numeric results when test-set sizes are unequal.\n",
      "  DeprecationWarning)\n"
     ]
    }
   ],
   "source": [
    "# grid search\n",
    "param_grid = {'max_depth': list(range(1,21)), 'criterion': ['entropy','gini'] }\n",
    "grid = GridSearchCV(model2, param_grid, cv=5)\n",
    "grid.fit(images, labels)\n",
    "print(\"Grid Search: best parameters: {}\".format(grid.best_params_))"
   ]
  },
  {
   "cell_type": "code",
   "execution_count": 16,
   "metadata": {},
   "outputs": [
    {
     "name": "stdout",
     "output_type": "stream",
     "text": [
      "Accuracy: 1.00 (1.00,1.00)\n"
     ]
    }
   ],
   "source": [
    "# accuracy of best model with confidence interval\n",
    "best_model = grid.best_estimator_\n",
    "predict_y = best_model.predict(images)\n",
    "acc = accuracy_score(labels, predict_y)\n",
    "lb,ub = classification_confint(acc,images.shape[0])\n",
    "print(\"Accuracy: {:3.2f} ({:3.2f},{:3.2f})\".format(acc,lb,ub))"
   ]
  },
  {
   "cell_type": "code",
   "execution_count": 17,
   "metadata": {},
   "outputs": [
    {
     "data": {
      "text/plain": [
       "['DTreeModel.joblib']"
      ]
     },
     "execution_count": 17,
     "metadata": {},
     "output_type": "execute_result"
    }
   ],
   "source": [
    "dump(best_model, 'DTreeModel.joblib')"
   ]
  },
  {
   "cell_type": "code",
   "execution_count": 18,
   "metadata": {},
   "outputs": [
    {
     "name": "stdout",
     "output_type": "stream",
     "text": [
      "Grid Search: best parameters: {'n_neighbors': 2}\n"
     ]
    }
   ],
   "source": [
    "# KNN\n",
    "model = KNeighborsClassifier()\n",
    "\n",
    "# grid search\n",
    "param_grid = {'n_neighbors': list(range(1,51))}\n",
    "grid = GridSearchCV(model, param_grid, cv=5)\n",
    "grid.fit(images, labels)\n",
    "print(\"Grid Search: best parameters: {}\".format(grid.best_params_))"
   ]
  },
  {
   "cell_type": "code",
   "execution_count": 19,
   "metadata": {},
   "outputs": [
    {
     "name": "stdout",
     "output_type": "stream",
     "text": [
      "Accuracy: 0.99 (0.99,1.00)\n"
     ]
    }
   ],
   "source": [
    "# accuracy of best model with confidence interval\n",
    "best_model = grid.best_estimator_\n",
    "predict_y = best_model.predict(images)\n",
    "acc = accuracy_score(labels, predict_y)\n",
    "lb,ub = classification_confint(acc,images.shape[0])\n",
    "print(\"Accuracy: {:3.2f} ({:3.2f},{:3.2f})\".format(acc,lb,ub))"
   ]
  },
  {
   "cell_type": "raw",
   "metadata": {},
   "source": []
  }
 ],
 "metadata": {
  "kernelspec": {
   "display_name": "Python 3",
   "language": "python",
   "name": "python3"
  },
  "language_info": {
   "codemirror_mode": {
    "name": "ipython",
    "version": 3
   },
   "file_extension": ".py",
   "mimetype": "text/x-python",
   "name": "python",
   "nbconvert_exporter": "python",
   "pygments_lexer": "ipython3",
   "version": "3.7.4"
  }
 },
 "nbformat": 4,
 "nbformat_minor": 2
}
